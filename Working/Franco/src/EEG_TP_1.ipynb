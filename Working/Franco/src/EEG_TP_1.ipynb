{
 "cells": [
  {
   "cell_type": "code",
   "execution_count": 1,
   "metadata": {},
   "outputs": [],
   "source": [
    "import numpy as np\n",
    "import pandas as pd\n",
    "import matplotlib.pylab as plt \n",
    "import matplotlib.gridspec as gridspec\n",
    "import seaborn as sns\n",
    "from scipy.signal import butter, lfilter, find_peaks\n",
    "from sklearn import decomposition\n",
    "import gower\n",
    "\n",
    "import mne\n",
    "\n",
    "import os\n",
    "\n",
    "\n",
    "import glob\n",
    "\n",
    "from utils import *\n",
    "\n",
    "from time import sleep\n",
    "from tqdm import tqdm"
   ]
  },
  {
   "cell_type": "code",
   "execution_count": 2,
   "metadata": {},
   "outputs": [],
   "source": [
    "foldername = '../../../Originals/procesados/'"
   ]
  },
  {
   "cell_type": "code",
   "execution_count": 3,
   "metadata": {},
   "outputs": [],
   "source": [
    "filenames = sorted(os.listdir(foldername))"
   ]
  },
  {
   "cell_type": "markdown",
   "metadata": {},
   "source": [
    "# Concatenación de todos los eeg data"
   ]
  },
  {
   "cell_type": "code",
   "execution_count": 4,
   "metadata": {},
   "outputs": [],
   "source": [
    "all_eeg_data = []\n",
    "for f in filenames:\n",
    "    eeg_data, _, _, _ = get_egg_data(foldername + f)\n",
    "    all_eeg_data.append(eeg_data)"
   ]
  },
  {
   "cell_type": "code",
   "execution_count": 5,
   "metadata": {},
   "outputs": [],
   "source": [
    "mont1020 = mne.channels.make_standard_montage('standard_1020')\n",
    "# Choose what channels you want to keep \n",
    "# Make sure that these channels exist e.g. T1 does not exist in the standard 10-20 EEG system!\n",
    "kept_channels = ['Fp1', 'Fp2', 'F3', 'F4', 'C3', 'C4', 'P3', 'P4', 'O1', 'O2', 'F7', 'F8', \n",
    "                 'T7', 'T8', 'P7', 'P8', 'Fz', 'Cz', 'Pz', 'FC1', 'FC2',\n",
    "                 'FC5', 'FC6','CP1','CP2','CP5','CP6','AFz','Fpz','POz']\n",
    "\n",
    "ind = [i for (i, channel) in enumerate(mont1020.ch_names) if channel in kept_channels]\n",
    "mont1020_30 = mont1020.copy()\n",
    "# Keep only the desired channels\n",
    "mont1020_30.ch_names = [mont1020.ch_names[x] for x in ind]\n",
    "kept_channel_info = [mont1020.dig[x+3] for x in ind]\n",
    "# Keep the first three rows as they are the fiducial points information\n",
    "mont1020_30.dig = mont1020.dig[0:3]+kept_channel_info\n",
    "info_eeg = mne.create_info(ch_names=mont1020_30.ch_names, sfreq=128,\n",
    "                            ch_types='eeg').set_montage(mont1020_30)"
   ]
  },
  {
   "cell_type": "code",
   "execution_count": 6,
   "metadata": {},
   "outputs": [],
   "source": [
    "df_all_eeg_data = pd.concat([pd.DataFrame(x.T) for x in all_eeg_data])"
   ]
  },
  {
   "cell_type": "code",
   "execution_count": 7,
   "metadata": {},
   "outputs": [],
   "source": [
    "df_all_eeg_data.reset_index(inplace=True, drop=True)"
   ]
  },
  {
   "cell_type": "code",
   "execution_count": 8,
   "metadata": {},
   "outputs": [],
   "source": [
    "all_eeg_data_numpy = df_all_eeg_data.to_numpy()"
   ]
  },
  {
   "cell_type": "code",
   "execution_count": 9,
   "metadata": {},
   "outputs": [
    {
     "data": {
      "text/plain": [
       "(76810, 30)"
      ]
     },
     "execution_count": 9,
     "metadata": {},
     "output_type": "execute_result"
    }
   ],
   "source": [
    "df_all_eeg_data.shape"
   ]
  },
  {
   "cell_type": "code",
   "execution_count": 10,
   "metadata": {},
   "outputs": [],
   "source": [
    "df_all_eeg_data = df_all_eeg_data.T"
   ]
  },
  {
   "cell_type": "markdown",
   "metadata": {},
   "source": [
    "# Tarea 1: Inspección de los mapas topográficos para los máximos de GFP"
   ]
  },
  {
   "cell_type": "markdown",
   "metadata": {},
   "source": [
    "### No entiendo muy bien que se refiere con esto \n",
    "Encontrar los picos máximos del GFP (PGF P ), guardar los mapas para cada máximo\n",
    "( ~xn). \\ \n",
    "Estudiar la presencia de mapas outliers. Para ello puede usar PCA y/o clustering jerarquico y/o matriz de distancias."
   ]
  },
  {
   "cell_type": "code",
   "execution_count": 11,
   "metadata": {},
   "outputs": [],
   "source": [
    "srate = 128"
   ]
  },
  {
   "cell_type": "code",
   "execution_count": 12,
   "metadata": {},
   "outputs": [
    {
     "data": {
      "text/plain": [
       "(30, 76810)"
      ]
     },
     "execution_count": 12,
     "metadata": {},
     "output_type": "execute_result"
    }
   ],
   "source": [
    "df_all_eeg_data.shape"
   ]
  },
  {
   "cell_type": "code",
   "execution_count": 13,
   "metadata": {},
   "outputs": [],
   "source": [
    "gfp, gfp_peaks, gfp_values, gfp2, n_gfp = calculo_gfp(df_all_eeg_data, srate, 'Nope')"
   ]
  },
  {
   "cell_type": "code",
   "execution_count": 14,
   "metadata": {},
   "outputs": [
    {
     "data": {
      "text/plain": [
       "(76810,)"
      ]
     },
     "execution_count": 14,
     "metadata": {},
     "output_type": "execute_result"
    }
   ],
   "source": [
    "gfp.shape"
   ]
  },
  {
   "cell_type": "code",
   "execution_count": 15,
   "metadata": {},
   "outputs": [
    {
     "data": {
      "text/plain": [
       "array([    5,    10,    17, ..., 76796, 76800, 76807])"
      ]
     },
     "execution_count": 15,
     "metadata": {},
     "output_type": "execute_result"
    }
   ],
   "source": [
    "gfp_peaks"
   ]
  },
  {
   "cell_type": "code",
   "execution_count": 16,
   "metadata": {},
   "outputs": [
    {
     "data": {
      "text/plain": [
       "5        7.276428\n",
       "10       5.238829\n",
       "17       3.388585\n",
       "21       4.178985\n",
       "28       4.070243\n",
       "           ...   \n",
       "76783    4.182255\n",
       "76788    6.040142\n",
       "76796    5.606688\n",
       "76800    5.746762\n",
       "76807    4.397674\n",
       "Length: 13135, dtype: float64"
      ]
     },
     "execution_count": 16,
     "metadata": {},
     "output_type": "execute_result"
    }
   ],
   "source": [
    "gfp_values"
   ]
  },
  {
   "cell_type": "markdown",
   "metadata": {},
   "source": [
    "## Sacar los outliers con PCA y/o clustering jerarquico y/o matriz de distancias"
   ]
  },
  {
   "cell_type": "code",
   "execution_count": 17,
   "metadata": {},
   "outputs": [],
   "source": [
    "X = df_all_eeg_data.T.loc[gfp_peaks].T"
   ]
  },
  {
   "cell_type": "code",
   "execution_count": 18,
   "metadata": {},
   "outputs": [
    {
     "data": {
      "text/plain": [
       "PCA(n_components=5)"
      ]
     },
     "execution_count": 18,
     "metadata": {},
     "output_type": "execute_result"
    }
   ],
   "source": [
    "pca = decomposition.PCA(n_components=5)\n",
    "pca.fit(X)"
   ]
  },
  {
   "cell_type": "code",
   "execution_count": 19,
   "metadata": {},
   "outputs": [
    {
     "name": "stdout",
     "output_type": "stream",
     "text": [
      "(30, 5)\n"
     ]
    }
   ],
   "source": [
    "pcs = pca.transform(X)\n",
    "print(pcs.shape)"
   ]
  },
  {
   "cell_type": "code",
   "execution_count": 20,
   "metadata": {},
   "outputs": [
    {
     "data": {
      "image/png": "[encoded data removed]",
      "text/plain": [
       "<Figure size 720x216 with 5 Axes>"
      ]
     },
     "metadata": {},
     "output_type": "display_data"
    }
   ],
   "source": [
    "var = pca.explained_variance_ratio_\n",
    "\n",
    "fig2, ax = plt.subplots(ncols=pcs.shape[1], figsize=(10, 3), gridspec_kw=dict(top=0.9),\n",
    "                        sharex=True, sharey=True)\n",
    "\n",
    "\n",
    "for p in range(pcs.shape[1]):\n",
    "    mne.viz.plot_topomap(pcs[:,p], info_eeg, \n",
    "                         cmap='coolwarm', vmin=-100,vmax=100, contours=0,\n",
    "                         axes=ax[p],show=False)\n",
    "    \n",
    "    ax[p].set_title('var:'+str(round(var[p]*100,2)) )"
   ]
  },
  {
   "cell_type": "code",
   "execution_count": 21,
   "metadata": {},
   "outputs": [],
   "source": [
    "# plt.figure(figsize=(15,10))\n",
    "# s_rate=128\n",
    "# start=0\n",
    "# end=60\n",
    "\n",
    "# x = np.arange(0, df_all_eeg_data.T.shape[1])/128\n",
    "# #y = gfp.\n",
    "# plt.plot(x, gfp.values)\n",
    "# plt.xlabel('tiempo [S]', fontsize=24)\n",
    "# plt.ylabel('GFP', fontsize=20)\n",
    "# plt.title(f'GFP y picos cada 80ms Sujeto Pos', fontsize=24)\n",
    "# peaks, _ = find_peaks(gfp, height=(0,np.inf),distance=10)\n",
    "# for ind in peaks:\n",
    "#     plt.plot(x[ind],gfp[ind],'ro')\n",
    "\n",
    "# # plt.savefig(f'../images/grafico_GFP_sujeto_{sujeto}_pos')\n",
    "# plt.show()"
   ]
  },
  {
   "cell_type": "markdown",
   "metadata": {},
   "source": [
    "# Tarea 2: Calculo de microestados utilizando k-means modificados\n",
    "Aplicar el algoritmo de K-means modificado sobre los PGF P . Utilizar k = 2 − 10. ¿Es necesario repetir el procedimiento más de una vez para cada valor de k?\n",
    "Decidir el mejor valor de k. Calcular el promedio de Silhoutte, el parámetro de Validación Cruzada y la Variancia global explicada para cada k. Relizar gráfico de las tres medidas para el k correspondiente.\n",
    "Para el valor de k óptimo realizar el perfil de Silhoutte completo. Inspeccionar, a partir de esta última figura, la presencia de outliers, si es necesario descartarlos del análisis y volver a calcular los clusters para este valor de k."
   ]
  },
  {
   "cell_type": "code",
   "execution_count": 22,
   "metadata": {},
   "outputs": [],
   "source": [
    "from utils import kmeans3\n",
    "from utils import silhoutte_modificado2\n",
    "from utils import grafica_sil"
   ]
  },
  {
   "cell_type": "code",
   "execution_count": 23,
   "metadata": {},
   "outputs": [],
   "source": [
    "#maps, L, cv = kmeans3(X.values, gfp_values, 2)"
   ]
  },
  {
   "cell_type": "markdown",
   "metadata": {},
   "source": [
    "## ¿Es necesario repetir el procedimiento más de una vez para cada valor de k? Supongo que hay que hacer un CV ya que hay una inicialización random al principio"
   ]
  },
  {
   "cell_type": "markdown",
   "metadata": {},
   "source": [
    "## Hacer el for loop sobre k 2 - 10. Calcular el silhoutte y ver cuales son las otras métricas. Todas meterlos en un dataframe."
   ]
  },
  {
   "cell_type": "markdown",
   "metadata": {},
   "source": [
    "- Acá armo el loop que recorre k de 2 a 10 y guarda lo que escupe la función kmeans3 más calcula el silhoutte.\n",
    "- La función que arma el silhutte la encontré en el código de los profes que se llama ejemplo_microestados2.\n",
    "- Ahí también hay una función para graficarlo (grafica_sil) pero no me estaría andando (celda 75).\n",
    "- Si todo esto está bien, faltaría ver cómo calcular la variancia global explicada para cada J y analizar la presencia de outliers en el último gráfico, etc.\n"
   ]
  },
  {
   "cell_type": "code",
   "execution_count": 24,
   "metadata": {},
   "outputs": [],
   "source": [
    "k = []\n",
    "maps_k = []\n",
    "L_k = []\n",
    "cv_k = []\n",
    "sil_k = []\n",
    "\n",
    "for i in range(2,11):\n",
    "    maps, L, cv = kmeans3(X.values, gfp_values, i, maxiter=1000)\n",
    "    k.append(i)\n",
    "    maps_k.append(maps)\n",
    "    L_k.append(L)\n",
    "    cv_k.append(cv)\n",
    "    sil = silhoutte_modificado2(maps, X, L, X.shape[0], i)\n",
    "    sil_avg = np.mean(sil)\n",
    "    sil_k.append(sil_avg)"
   ]
  },
  {
   "cell_type": "code",
   "execution_count": 69,
   "metadata": {},
   "outputs": [
    {
     "data": {
      "text/plain": [
       "Text(0.5, 1.0, 'Silhoutte en función del k')"
      ]
     },
     "execution_count": 69,
     "metadata": {},
     "output_type": "execute_result"
    },
    {
     "data": {
      "image/png": "[encoded data removed]",
      "text/plain": [
       "<Figure size 432x288 with 1 Axes>"
      ]
     },
     "metadata": {},
     "output_type": "display_data"
    }
   ],
   "source": [
    "plt.plot(k, sil_k,'b.-')\n",
    "plt.title('Silhoutte en función del k')"
   ]
  },
  {
   "cell_type": "code",
   "execution_count": 70,
   "metadata": {},
   "outputs": [
    {
     "data": {
      "text/plain": [
       "Text(0.5, 1.0, 'CV en función del k')"
      ]
     },
     "execution_count": 70,
     "metadata": {},
     "output_type": "execute_result"
    },
    {
     "data": {
      "image/png": "[encoded data removed]",
      "text/plain": [
       "<Figure size 432x288 with 1 Axes>"
      ]
     },
     "metadata": {},
     "output_type": "display_data"
    }
   ],
   "source": [
    "plt.plot(k, cv_k, 'b.-')\n",
    "plt.title('CV en función del k')"
   ]
  },
  {
   "cell_type": "code",
   "execution_count": 75,
   "metadata": {},
   "outputs": [
    {
     "name": "stdout",
     "output_type": "stream",
     "text": [
      "For n_clusters = 4 The average silhouette_score is : 0.23413227928361732\n"
     ]
    },
    {
     "ename": "IndexError",
     "evalue": "too many indices for array",
     "output_type": "error",
     "traceback": [
      "Traceback \u001b[1;36m(most recent call last)\u001b[0m:\n",
      "  File \u001b[0;32m\"<ipython-input-75-5b98778889e9>\"\u001b[0m, line \u001b[0;32m1\u001b[0m, in \u001b[0;35m<module>\u001b[0m\n    grafica_sil(4,sil_k[2],L_k[2])\n",
      "\u001b[1;36m  File \u001b[1;32m\"C:\\Users\\Sole\\Documents\\maestria dm\\2c2021\\cyt\\dmcyt-2021\\Working\\Franco\\src\\utils.py\"\u001b[1;36m, line \u001b[1;32m308\u001b[1;36m, in \u001b[1;35mgrafica_sil\u001b[1;36m\u001b[0m\n\u001b[1;33m    sample_silhouette_values[labels == i]\u001b[0m\n",
      "\u001b[1;31mIndexError\u001b[0m\u001b[1;31m:\u001b[0m too many indices for array\n"
     ]
    },
    {
     "data": {
      "image/png": "[encoded data removed]",
      "text/plain": [
       "<Figure size 432x288 with 1 Axes>"
      ]
     },
     "metadata": {},
     "output_type": "display_data"
    }
   ],
   "source": [
    "grafica_sil(4,sil_k[2],L_k[2])"
   ]
  },
  {
   "cell_type": "code",
   "execution_count": 63,
   "metadata": {},
   "outputs": [
    {
     "data": {
      "text/plain": [
       "[2, 3, 4, 5, 6, 7, 8, 9, 10]"
      ]
     },
     "execution_count": 63,
     "metadata": {},
     "output_type": "execute_result"
    }
   ],
   "source": [
    "k"
   ]
  },
  {
   "cell_type": "markdown",
   "metadata": {},
   "source": [
    "# Tarea 3: Validación externa de los microestados\n",
    "Realizar al menos dos métodos de clustering diferentes para los ~xn. Determinar la distancia que va a utilizar. Justificar brevemente porque se eligen esos métodos y nociones de distancia. Realice una inspección de las características de los clusters hallados y de los prototipos de cada cluster en caso que los hubiese (o de ejemplos en el caso que no), comparar con los encontrados por el método de k-means modificado.\n",
    "Calcular la matriz de confusión entre algoritmos. Determinar el índice Rand."
   ]
  },
  {
   "cell_type": "code",
   "execution_count": 30,
   "metadata": {},
   "outputs": [],
   "source": [
    "from sklearn_extra.cluster import KMedoids\n",
    "from scipy.cluster.hierarchy import dendrogram, linkage, cophenet\n",
    "from scipy.spatial.distance import squareform\n",
    "from sklearn.metrics import silhouette_samples, silhouette_score, pairwise\n",
    "from sklearn.cluster import DBSCAN, KMeans, AgglomerativeClustering\n",
    "# import sklearn.metrics.pairwise"
   ]
  },
  {
   "cell_type": "code",
   "execution_count": 23,
   "metadata": {},
   "outputs": [],
   "source": [
    "d_meta = gower.gower_matrix(X.T)"
   ]
  },
  {
   "cell_type": "markdown",
   "metadata": {},
   "source": [
    "## Probamos distintos tipos de clustering: por prototipo y por densidad"
   ]
  },
  {
   "cell_type": "markdown",
   "metadata": {},
   "source": [
    "### K-MEDOIDS es menos sensible a los outliers, nosotros los identificamos y limpiamos en el paso anterior. Es más flexible para otras distancias. NO escala bien para N grandes."
   ]
  },
  {
   "cell_type": "markdown",
   "metadata": {},
   "source": [
    "# Cluster por prototipo"
   ]
  },
  {
   "cell_type": "code",
   "execution_count": 24,
   "metadata": {
    "jupyter": {
     "source_hidden": true
    }
   },
   "outputs": [],
   "source": [
    "KM_meta = KMedoids(n_clusters=4, metric='euclidean', init='k-medoids++').fit(d_meta)"
   ]
  },
  {
   "cell_type": "code",
   "execution_count": 25,
   "metadata": {
    "collapsed": true,
    "jupyter": {
     "outputs_hidden": true,
     "source_hidden": true
    }
   },
   "outputs": [
    {
     "name": "stdout",
     "output_type": "stream",
     "text": [
      "[0 1 3 ... 3 1 3]\n",
      "[ 8018 12602  7784  6108]\n"
     ]
    }
   ],
   "source": [
    "print(KM_meta.labels_)\n",
    "print(KM_meta.medoid_indices_)"
   ]
  },
  {
   "cell_type": "code",
   "execution_count": 26,
   "metadata": {
    "collapsed": true,
    "jupyter": {
     "outputs_hidden": true,
     "source_hidden": true
    }
   },
   "outputs": [
    {
     "name": "stdout",
     "output_type": "stream",
     "text": [
      "0.26477793\n",
      "73.64220760876196\n"
     ]
    },
    {
     "data": {
      "text/plain": [
       "array([0.20959789, 0.34574088, 0.22301374, ..., 0.03995391, 0.11480102,\n",
       "       0.36732063], dtype=float32)"
      ]
     },
     "execution_count": 26,
     "metadata": {},
     "output_type": "execute_result"
    }
   ],
   "source": [
    "print(silhouette_score(d_meta, KM_meta.labels_, metric='euclidean'))\n",
    "print(calcula_sse_kmedoids(KM_meta,d_meta))\n",
    "silhouette_samples(d_meta, KM_meta.labels_, metric='euclidean')"
   ]
  },
  {
   "cell_type": "markdown",
   "metadata": {},
   "source": [
    "# Cluster por densidad"
   ]
  },
  {
   "cell_type": "code",
   "execution_count": 36,
   "metadata": {},
   "outputs": [],
   "source": [
    "metrics = list(pairwise.PAIRED_DISTANCES.keys())\n",
    "clusters = 4"
   ]
  },
  {
   "cell_type": "code",
   "execution_count": 39,
   "metadata": {},
   "outputs": [
    {
     "data": {
      "text/plain": [
       "['cosine', 'euclidean', 'l2', 'l1', 'manhattan', 'cityblock']"
      ]
     },
     "execution_count": 39,
     "metadata": {},
     "output_type": "execute_result"
    }
   ],
   "source": [
    "metrics"
   ]
  },
  {
   "cell_type": "code",
   "execution_count": null,
   "metadata": {},
   "outputs": [
    {
     "name": "stderr",
     "output_type": "stream",
     "text": [
      " 17%|█▋        | 1/6 [01:26<07:10, 86.13s/it]/Users/fran/anaconda3/lib/python3.7/site-packages/scipy/cluster/hierarchy.py:830: ClusterWarning: scipy.cluster: The symmetric non-negative hollow observation matrix looks suspiciously like an uncondensed distance matrix\n",
      "  return linkage(y, method='ward', metric='euclidean')\n"
     ]
    }
   ],
   "source": [
    "all_models = {}\n",
    "for metric in tqdm(metrics):\n",
    "    try:\n",
    "        kmdeoids = KMedoids(n_clusters=clusters, metric=metric, init='k-medoids++').fit(d_meta)\n",
    "    except:\n",
    "        kmdeoids = None\n",
    "    \n",
    "    try:\n",
    "        dbscan = DBSCAN(eps=3, min_samples=2, metric=metric).fit(d_meta)\n",
    "    except:\n",
    "        dbscan = None\n",
    "       \n",
    "    try:\n",
    "        knn = KMeans(n_clusters=clusters).fit(d_meta)\n",
    "    except:\n",
    "        knn = None\n",
    "        \n",
    "    try:\n",
    "        agg_clustering = AgglomerativeClustering(n_clusters=clusters, affinity=metric).fit(d_meta)\n",
    "    except:\n",
    "        agg_clustering = None\n",
    "    \n",
    "    all_models['KMedoids'] = {}\n",
    "    all_models['DBSCAN'] = {}\n",
    "    all_models['KMeans'] = {}\n",
    "    all_models['AgglomerativeClustering'] = {}\n",
    "    \n",
    "    all_models['KMedoids'][metric] = {}\n",
    "    all_models['DBSCAN'][metric] = {}\n",
    "    all_models['KMeans'][metric] = {}\n",
    "    all_models['AgglomerativeClustering'][metric] = {}\n",
    "    \n",
    "    \n",
    "    try:\n",
    "        all_models['KMedoids'][metric]['silhouette_score'] = silhouette_score(d_meta, kmdeoids.labels_, metric=metric)\n",
    "    except:\n",
    "        all_models['KMedoids'][metric]['silhouette_score'] = None\n",
    "    try:\n",
    "        all_models['DBSCAN'][metric]['silhouette_score'] = silhouette_score(d_meta, dbscan.labels_, metric=metric)\n",
    "    except:\n",
    "        all_models['DBSCAN'][metric]['silhouette_score'] = None\n",
    "    try:\n",
    "        all_models['KMeans'][metric]['silhouette_score'] = silhouette_score(d_meta, knn.labels_, metric=metric)\n",
    "    except:\n",
    "        all_models['KMeans'][metric]['silhouette_score'] = None \n",
    "    try:\n",
    "        all_models['AgglomerativeClustering'][metric]['silhouette_score'] = silhouette_score(d_meta, agg_clustering.labels_, metric=metric)\n",
    "    except:\n",
    "        all_models['AgglomerativeClustering'][metric]['silhouette_score'] = None"
   ]
  },
  {
   "cell_type": "code",
   "execution_count": null,
   "metadata": {},
   "outputs": [],
   "source": []
  },
  {
   "cell_type": "code",
   "execution_count": null,
   "metadata": {},
   "outputs": [],
   "source": []
  },
  {
   "cell_type": "code",
   "execution_count": null,
   "metadata": {},
   "outputs": [],
   "source": []
  },
  {
   "cell_type": "markdown",
   "metadata": {},
   "source": [
    "# Tarea 4: Visualización\n",
    "Para los distintos algoritmos, visualizar los datos y las etiquetas de cluster asignadas en baja dimensión con alguna técnica de reducción (PCA, TSNE, MDS, etc). Esto se puede repetir para alguna variación que encuentren interesante, como para distintos valores de k o distintas nociones de distancia."
   ]
  },
  {
   "cell_type": "markdown",
   "metadata": {},
   "source": [
    "# Tarea 5: Comparación de medidas de los microestados\n",
    "Calcule el ajuste de los datos de EEG a los prototipos de microestados hallados en la\n",
    "Tarea 2 para cada registro. Realice un suavizado de las series temporales (puede utilizar\n",
    "una ventana promedio móvil) y asigne a cada punto temporal el mapa prototipo que presente\n",
    "mayor correlación.\n",
    "A partir de aca debe elegir al menos uno de los siguientes medidas para comparar entre\n",
    "ambas condiciones experimentales (antes y después del aprendizaje): (ver medidas en d’Croz\n",
    "-Baron y colaboradores [3])\n",
    "Duración promedio de cada microestado.\n",
    "Frecuencia de ocurrencia.\n",
    "Fracción de tiempo cubierto.\n",
    "Global Explanined Variance."
   ]
  },
  {
   "cell_type": "code",
   "execution_count": null,
   "metadata": {},
   "outputs": [],
   "source": []
  },
  {
   "cell_type": "code",
   "execution_count": null,
   "metadata": {},
   "outputs": [],
   "source": []
  },
  {
   "cell_type": "code",
   "execution_count": null,
   "metadata": {},
   "outputs": [],
   "source": []
  },
  {
   "cell_type": "code",
   "execution_count": null,
   "metadata": {},
   "outputs": [],
   "source": []
  },
  {
   "cell_type": "code",
   "execution_count": null,
   "metadata": {},
   "outputs": [],
   "source": []
  },
  {
   "cell_type": "code",
   "execution_count": null,
   "metadata": {},
   "outputs": [],
   "source": []
  },
  {
   "cell_type": "code",
   "execution_count": null,
   "metadata": {},
   "outputs": [],
   "source": []
  }
 ],
 "metadata": {
  "kernelspec": {
   "display_name": "Python 3",
   "language": "python",
   "name": "python3"
  },
  "language_info": {
   "codemirror_mode": {
    "name": "ipython",
    "version": 3
   },
   "file_extension": ".py",
   "mimetype": "text/x-python",
   "name": "python",
   "nbconvert_exporter": "python",
   "pygments_lexer": "ipython3",
   "version": "3.7.4"
  }
 },
 "nbformat": 4,
 "nbformat_minor": 4
}
