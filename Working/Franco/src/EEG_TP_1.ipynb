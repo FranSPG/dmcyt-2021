{
 "cells": [
  {
   "cell_type": "code",
   "execution_count": 11,
   "metadata": {},
   "outputs": [],
   "source": [
    "import numpy as np\n",
    "import pandas as pd\n",
    "import matplotlib.pylab as plt \n",
    "import matplotlib.gridspec as gridspec\n",
    "import seaborn as sns\n",
    "from scipy.signal import butter, lfilter, find_peaks\n",
    "from sklearn import decomposition\n",
    "from sklearn.metrics import pairwise_distances\n",
    "import gower\n",
    "\n",
    "import mne\n",
    "\n",
    "import os\n",
    "\n",
    "\n",
    "import glob\n",
    "\n",
    "from utils import *\n",
    "\n",
    "\n",
    "from time import sleep\n",
    "from tqdm import tqdm"
   ]
  },
  {
   "cell_type": "code",
   "execution_count": 13,
   "metadata": {},
   "outputs": [],
   "source": [
    "foldername = '../../../Originals/procesados/'"
   ]
  },
  {
   "cell_type": "code",
   "execution_count": 14,
   "metadata": {},
   "outputs": [],
   "source": [
    "filenames = sorted(os.listdir(foldername))"
   ]
  },
  {
   "cell_type": "markdown",
   "metadata": {},
   "source": [
    "# Concatenación de todos los eeg data"
   ]
  },
  {
   "cell_type": "code",
   "execution_count": 15,
   "metadata": {},
   "outputs": [
    {
     "data": {
      "text/plain": [
       "{1, 2, 3, 4, 10}"
      ]
     },
     "execution_count": 15,
     "metadata": {},
     "output_type": "execute_result"
    }
   ],
   "source": [
    "set([3,4,2 ,1,10])"
   ]
  },
  {
   "cell_type": "code",
   "execution_count": 30,
   "metadata": {},
   "outputs": [],
   "source": [
    "l1 = [1,2,3,4]\n",
    "l2 = [4,5,6]"
   ]
  },
  {
   "cell_type": "code",
   "execution_count": 32,
   "metadata": {},
   "outputs": [],
   "source": [
    "l1.extend(l2)"
   ]
  },
  {
   "cell_type": "code",
   "execution_count": 33,
   "metadata": {},
   "outputs": [
    {
     "data": {
      "text/plain": [
       "[1, 2, 3, 4, 4, 5, 6, 4, 5, 6]"
      ]
     },
     "execution_count": 33,
     "metadata": {},
     "output_type": "execute_result"
    }
   ],
   "source": [
    "l1"
   ]
  },
  {
   "cell_type": "code",
   "execution_count": 34,
   "metadata": {},
   "outputs": [
    {
     "ename": "NameError",
     "evalue": "name 'prinat' is not defined",
     "output_type": "error",
     "traceback": [
      "Traceback \u001b[1;36m(most recent call last)\u001b[0m:\n",
      "\u001b[1;36m  File \u001b[1;32m\"<ipython-input-34-f3f436710bbb>\"\u001b[1;36m, line \u001b[1;32m1\u001b[1;36m, in \u001b[1;35m<module>\u001b[1;36m\u001b[0m\n\u001b[1;33m    prinat([i.lower() for i in \"TURING\"])\u001b[0m\n",
      "\u001b[1;31mNameError\u001b[0m\u001b[1;31m:\u001b[0m name 'prinat' is not defined\n"
     ]
    }
   ],
   "source": [
    "prinat([i.lower() for i in \"TURING\"])"
   ]
  },
  {
   "cell_type": "code",
   "execution_count": 36,
   "metadata": {},
   "outputs": [
    {
     "ename": "AttributeError",
     "evalue": "'_io.TextIOWrapper' object has no attribute 'pos'",
     "output_type": "error",
     "traceback": [
      "Traceback \u001b[1;36m(most recent call last)\u001b[0m:\n",
      "\u001b[1;36m  File \u001b[1;32m\"<ipython-input-36-df3ca47d46e1>\"\u001b[1;36m, line \u001b[1;32m2\u001b[1;36m, in \u001b[1;35m<module>\u001b[1;36m\u001b[0m\n\u001b[1;33m    print(fp.pos())\u001b[0m\n",
      "\u001b[1;31mAttributeError\u001b[0m\u001b[1;31m:\u001b[0m '_io.TextIOWrapper' object has no attribute 'pos'\n"
     ]
    }
   ],
   "source": [
    "with open(foldername + filenames[0]) as fp:\n",
    "    print(fp.pos())"
   ]
  },
  {
   "cell_type": "code",
   "execution_count": 37,
   "metadata": {},
   "outputs": [],
   "source": [
    "all_eeg_data = []\n",
    "for f in filenames:\n",
    "    eeg_data, _, _, _ = get_egg_data(foldername + f)\n",
    "    all_eeg_data.append(eeg_data)"
   ]
  },
  {
   "cell_type": "code",
   "execution_count": 38,
   "metadata": {},
   "outputs": [],
   "source": [
    "mont1020 = mne.channels.make_standard_montage('standard_1020')\n",
    "# Choose what channels you want to keep \n",
    "# Make sure that these channels exist e.g. T1 does not exist in the standard 10-20 EEG system!\n",
    "kept_channels = ['Fp1', 'Fp2', 'F3', 'F4', 'C3', 'C4', 'P3', 'P4', 'O1', 'O2', 'F7', 'F8', \n",
    "                 'T7', 'T8', 'P7', 'P8', 'Fz', 'Cz', 'Pz', 'FC1', 'FC2',\n",
    "                 'FC5', 'FC6','CP1','CP2','CP5','CP6','AFz','Fpz','POz']\n",
    "\n",
    "ind = [i for (i, channel) in enumerate(mont1020.ch_names) if channel in kept_channels]\n",
    "mont1020_30 = mont1020.copy()\n",
    "# Keep only the desired channels\n",
    "mont1020_30.ch_names = [mont1020.ch_names[x] for x in ind]\n",
    "kept_channel_info = [mont1020.dig[x+3] for x in ind]\n",
    "# Keep the first three rows as they are the fiducial points information\n",
    "mont1020_30.dig = mont1020.dig[0:3]+kept_channel_info\n",
    "info_eeg = mne.create_info(ch_names=mont1020_30.ch_names, sfreq=128,\n",
    "                            ch_types='eeg').set_montage(mont1020_30)"
   ]
  },
  {
   "cell_type": "code",
   "execution_count": 39,
   "metadata": {},
   "outputs": [],
   "source": [
    "df_all_eeg_data = pd.concat([pd.DataFrame(x.T) for x in all_eeg_data])"
   ]
  },
  {
   "cell_type": "code",
   "execution_count": 40,
   "metadata": {},
   "outputs": [],
   "source": [
    "df_all_eeg_data.reset_index(inplace=True, drop=True)"
   ]
  },
  {
   "cell_type": "code",
   "execution_count": 41,
   "metadata": {},
   "outputs": [],
   "source": [
    "all_eeg_data_numpy = df_all_eeg_data.to_numpy()"
   ]
  },
  {
   "cell_type": "code",
   "execution_count": 42,
   "metadata": {},
   "outputs": [
    {
     "data": {
      "text/plain": [
       "(76810, 30)"
      ]
     },
     "execution_count": 42,
     "metadata": {},
     "output_type": "execute_result"
    }
   ],
   "source": [
    "df_all_eeg_data.shape"
   ]
  },
  {
   "cell_type": "code",
   "execution_count": 43,
   "metadata": {},
   "outputs": [],
   "source": [
    "df_all_eeg_data = df_all_eeg_data.T"
   ]
  },
  {
   "cell_type": "markdown",
   "metadata": {},
   "source": [
    "# Tarea 1: Inspección de los mapas topográficos para los máximos de GFP"
   ]
  },
  {
   "cell_type": "markdown",
   "metadata": {},
   "source": [
    "### No entiendo muy bien que se refiere con esto \n",
    "Encontrar los picos máximos del GFP (PGF P ), guardar los mapas para cada máximo\n",
    "( ~xn). \\ \n",
    "Estudiar la presencia de mapas outliers. Para ello puede usar PCA y/o clustering jerarquico y/o matriz de distancias."
   ]
  },
  {
   "cell_type": "code",
   "execution_count": 44,
   "metadata": {},
   "outputs": [],
   "source": [
    "srate = 128"
   ]
  },
  {
   "cell_type": "code",
   "execution_count": 45,
   "metadata": {},
   "outputs": [
    {
     "data": {
      "text/plain": [
       "(30, 76810)"
      ]
     },
     "execution_count": 45,
     "metadata": {},
     "output_type": "execute_result"
    }
   ],
   "source": [
    "df_all_eeg_data.shape"
   ]
  },
  {
   "cell_type": "code",
   "execution_count": 46,
   "metadata": {},
   "outputs": [],
   "source": [
    "gfp, gfp_peaks, gfp_values, gfp2, n_gfp = calculo_gfp(df_all_eeg_data, srate, 'Nope')"
   ]
  },
  {
   "cell_type": "code",
   "execution_count": 47,
   "metadata": {},
   "outputs": [
    {
     "data": {
      "text/plain": [
       "(76810,)"
      ]
     },
     "execution_count": 47,
     "metadata": {},
     "output_type": "execute_result"
    }
   ],
   "source": [
    "gfp.shape"
   ]
  },
  {
   "cell_type": "code",
   "execution_count": 48,
   "metadata": {},
   "outputs": [
    {
     "data": {
      "text/plain": [
       "array([    5,    10,    17, ..., 76796, 76800, 76807], dtype=int64)"
      ]
     },
     "execution_count": 48,
     "metadata": {},
     "output_type": "execute_result"
    }
   ],
   "source": [
    "gfp_peaks"
   ]
  },
  {
   "cell_type": "code",
   "execution_count": 49,
   "metadata": {},
   "outputs": [
    {
     "data": {
      "text/plain": [
       "5        7.276428\n",
       "10       5.238829\n",
       "17       3.388585\n",
       "21       4.178985\n",
       "28       4.070243\n",
       "           ...   \n",
       "76783    4.182255\n",
       "76788    6.040142\n",
       "76796    5.606688\n",
       "76800    5.746762\n",
       "76807    4.397674\n",
       "Length: 13135, dtype: float64"
      ]
     },
     "execution_count": 49,
     "metadata": {},
     "output_type": "execute_result"
    }
   ],
   "source": [
    "gfp_values"
   ]
  },
  {
   "cell_type": "markdown",
   "metadata": {},
   "source": [
    "## Sacar los outliers con PCA y/o clustering jerarquico y/o matriz de distancias"
   ]
  },
  {
   "cell_type": "code",
   "execution_count": 50,
   "metadata": {},
   "outputs": [],
   "source": [
    "X = df_all_eeg_data.T.loc[gfp_peaks].T"
   ]
  },
  {
   "cell_type": "code",
   "execution_count": 51,
   "metadata": {},
   "outputs": [
    {
     "data": {
      "text/plain": [
       "PCA(n_components=5)"
      ]
     },
     "execution_count": 51,
     "metadata": {},
     "output_type": "execute_result"
    }
   ],
   "source": [
    "pca = decomposition.PCA(n_components=5)\n",
    "pca.fit(X)"
   ]
  },
  {
   "cell_type": "code",
   "execution_count": 52,
   "metadata": {},
   "outputs": [
    {
     "name": "stdout",
     "output_type": "stream",
     "text": [
      "(30, 5)\n"
     ]
    }
   ],
   "source": [
    "pcs = pca.transform(X)\n",
    "print(pcs.shape)"
   ]
  },
  {
   "cell_type": "code",
   "execution_count": 53,
   "metadata": {},
   "outputs": [
    {
     "data": {
      "image/png": "[encoded data removed]",
      "text/plain": [
       "<Figure size 720x216 with 5 Axes>"
      ]
     },
     "metadata": {},
     "output_type": "display_data"
    }
   ],
   "source": [
    "var = pca.explained_variance_ratio_\n",
    "\n",
    "fig2, ax = plt.subplots(ncols=pcs.shape[1], figsize=(10, 3), gridspec_kw=dict(top=0.9),\n",
    "                        sharex=True, sharey=True)\n",
    "\n",
    "\n",
    "for p in range(pcs.shape[1]):\n",
    "    mne.viz.plot_topomap(pcs[:,p], info_eeg, \n",
    "                         cmap='coolwarm', vmin=-100,vmax=100, contours=0,\n",
    "                         axes=ax[p],show=False)\n",
    "    \n",
    "    ax[p].set_title('var:'+str(round(var[p]*100,2)) )"
   ]
  },
  {
   "cell_type": "code",
   "execution_count": 54,
   "metadata": {},
   "outputs": [
    {
     "data": {
      "text/plain": [
       "(13135, 13135)"
      ]
     },
     "execution_count": 54,
     "metadata": {},
     "output_type": "execute_result"
    }
   ],
   "source": [
    "# Calculo la distnacia euclidiana para \n",
    "# input shape (n_samples,n_features) por eso uso X.T\n",
    "dist_mat_euc = pairwise_distances(X.T,X.T,metric='euclidean')\n",
    "dist_mat_euc.shape"
   ]
  },
  {
   "cell_type": "code",
   "execution_count": 55,
   "metadata": {},
   "outputs": [
    {
     "data": {
      "text/plain": [
       "<matplotlib.axes._subplots.AxesSubplot at 0x1de4fa21c70>"
      ]
     },
     "execution_count": 55,
     "metadata": {},
     "output_type": "execute_result"
    },
    {
     "data": {
      "image/png": "[encoded data removed]",
      "text/plain": [
       "<Figure size 432x288 with 1 Axes>"
      ]
     },
     "metadata": {},
     "output_type": "display_data"
    }
   ],
   "source": [
    "# Calculo la dist media y le agrego el indice que tiene X.T, que sería el mapa la instante t.\n",
    "df_dist_mat_euc = pd.DataFrame(dist_mat_euc,index=X.T.index)\n",
    "mean_dists = df_dist_mat_euc.mean(axis=1)\n",
    "mean_dists.hist(bins=100)"
   ]
  },
  {
   "cell_type": "code",
   "execution_count": 56,
   "metadata": {},
   "outputs": [
    {
     "data": {
      "text/html": [
       "<div>\n",
       "<style scoped>\n",
       "    .dataframe tbody tr th:only-of-type {\n",
       "        vertical-align: middle;\n",
       "    }\n",
       "\n",
       "    .dataframe tbody tr th {\n",
       "        vertical-align: top;\n",
       "    }\n",
       "\n",
       "    .dataframe thead th {\n",
       "        text-align: right;\n",
       "    }\n",
       "</style>\n",
       "<table border=\"1\" class=\"dataframe\">\n",
       "  <thead>\n",
       "    <tr style=\"text-align: right;\">\n",
       "      <th></th>\n",
       "      <th>0</th>\n",
       "      <th>1</th>\n",
       "      <th>2</th>\n",
       "      <th>3</th>\n",
       "      <th>4</th>\n",
       "      <th>5</th>\n",
       "      <th>6</th>\n",
       "      <th>7</th>\n",
       "      <th>8</th>\n",
       "      <th>9</th>\n",
       "      <th>10</th>\n",
       "      <th>11</th>\n",
       "      <th>12</th>\n",
       "      <th>13</th>\n",
       "      <th>14</th>\n",
       "      <th>15</th>\n",
       "      <th>16</th>\n",
       "      <th>17</th>\n",
       "      <th>18</th>\n",
       "      <th>19</th>\n",
       "      <th>20</th>\n",
       "      <th>21</th>\n",
       "      <th>22</th>\n",
       "      <th>23</th>\n",
       "      <th>24</th>\n",
       "      <th>25</th>\n",
       "      <th>26</th>\n",
       "      <th>27</th>\n",
       "      <th>28</th>\n",
       "      <th>29</th>\n",
       "    </tr>\n",
       "  </thead>\n",
       "  <tbody>\n",
       "    <tr>\n",
       "      <th>5</th>\n",
       "      <td>-4.90590</td>\n",
       "      <td>-5.8438</td>\n",
       "      <td>-6.3806</td>\n",
       "      <td>5.61930</td>\n",
       "      <td>13.21500</td>\n",
       "      <td>-10.3510</td>\n",
       "      <td>-0.732880</td>\n",
       "      <td>6.38300</td>\n",
       "      <td>-10.14500</td>\n",
       "      <td>-1.57980</td>\n",
       "      <td>1.98550</td>\n",
       "      <td>5.78880</td>\n",
       "      <td>16.041000</td>\n",
       "      <td>-8.330000</td>\n",
       "      <td>-2.9090</td>\n",
       "      <td>7.7043</td>\n",
       "      <td>-4.51770</td>\n",
       "      <td>-2.953900</td>\n",
       "      <td>9.495700</td>\n",
       "      <td>-5.900800</td>\n",
       "      <td>-1.13120</td>\n",
       "      <td>-6.1538</td>\n",
       "      <td>-1.47650</td>\n",
       "      <td>1.92040</td>\n",
       "      <td>5.56840</td>\n",
       "      <td>-4.75890</td>\n",
       "      <td>3.1592</td>\n",
       "      <td>-6.66760</td>\n",
       "      <td>15.31600</td>\n",
       "      <td>-7.45820</td>\n",
       "    </tr>\n",
       "    <tr>\n",
       "      <th>10</th>\n",
       "      <td>7.63770</td>\n",
       "      <td>5.8280</td>\n",
       "      <td>-5.0308</td>\n",
       "      <td>-9.04660</td>\n",
       "      <td>-7.75150</td>\n",
       "      <td>4.4265</td>\n",
       "      <td>0.030366</td>\n",
       "      <td>-2.99750</td>\n",
       "      <td>1.61370</td>\n",
       "      <td>6.32360</td>\n",
       "      <td>3.60930</td>\n",
       "      <td>-2.83170</td>\n",
       "      <td>-4.747200</td>\n",
       "      <td>8.411800</td>\n",
       "      <td>4.6866</td>\n",
       "      <td>0.2968</td>\n",
       "      <td>0.86599</td>\n",
       "      <td>-0.089656</td>\n",
       "      <td>-8.013600</td>\n",
       "      <td>-4.040800</td>\n",
       "      <td>2.53860</td>\n",
       "      <td>-2.0199</td>\n",
       "      <td>5.09860</td>\n",
       "      <td>-6.50460</td>\n",
       "      <td>-3.08470</td>\n",
       "      <td>0.46798</td>\n",
       "      <td>4.2657</td>\n",
       "      <td>4.08880</td>\n",
       "      <td>-10.48200</td>\n",
       "      <td>6.45020</td>\n",
       "    </tr>\n",
       "    <tr>\n",
       "      <th>17</th>\n",
       "      <td>5.90130</td>\n",
       "      <td>-1.5379</td>\n",
       "      <td>-3.5369</td>\n",
       "      <td>-3.13850</td>\n",
       "      <td>1.71550</td>\n",
       "      <td>2.6414</td>\n",
       "      <td>0.919840</td>\n",
       "      <td>3.78090</td>\n",
       "      <td>1.14980</td>\n",
       "      <td>-0.70753</td>\n",
       "      <td>-4.72920</td>\n",
       "      <td>-2.44450</td>\n",
       "      <td>4.313000</td>\n",
       "      <td>4.775100</td>\n",
       "      <td>4.9748</td>\n",
       "      <td>2.2255</td>\n",
       "      <td>-2.56360</td>\n",
       "      <td>-2.792900</td>\n",
       "      <td>-0.053297</td>\n",
       "      <td>-1.843000</td>\n",
       "      <td>7.43410</td>\n",
       "      <td>-2.2452</td>\n",
       "      <td>0.64295</td>\n",
       "      <td>-5.21120</td>\n",
       "      <td>-3.52040</td>\n",
       "      <td>-5.38000</td>\n",
       "      <td>-1.1226</td>\n",
       "      <td>-2.19410</td>\n",
       "      <td>0.20288</td>\n",
       "      <td>2.34380</td>\n",
       "    </tr>\n",
       "    <tr>\n",
       "      <th>21</th>\n",
       "      <td>-1.68830</td>\n",
       "      <td>-6.9348</td>\n",
       "      <td>1.0430</td>\n",
       "      <td>5.23440</td>\n",
       "      <td>7.25420</td>\n",
       "      <td>-6.8694</td>\n",
       "      <td>-1.450900</td>\n",
       "      <td>5.83270</td>\n",
       "      <td>-0.81021</td>\n",
       "      <td>-4.38280</td>\n",
       "      <td>-0.81366</td>\n",
       "      <td>1.47700</td>\n",
       "      <td>8.346000</td>\n",
       "      <td>-3.922100</td>\n",
       "      <td>1.5639</td>\n",
       "      <td>2.8976</td>\n",
       "      <td>-6.05680</td>\n",
       "      <td>-2.061800</td>\n",
       "      <td>3.987000</td>\n",
       "      <td>-3.870600</td>\n",
       "      <td>2.91930</td>\n",
       "      <td>-4.0898</td>\n",
       "      <td>-3.08910</td>\n",
       "      <td>3.29280</td>\n",
       "      <td>3.30410</td>\n",
       "      <td>-1.75380</td>\n",
       "      <td>2.3473</td>\n",
       "      <td>-3.61120</td>\n",
       "      <td>5.32080</td>\n",
       "      <td>-3.41470</td>\n",
       "    </tr>\n",
       "    <tr>\n",
       "      <th>28</th>\n",
       "      <td>-0.79600</td>\n",
       "      <td>-1.6378</td>\n",
       "      <td>5.9023</td>\n",
       "      <td>2.30480</td>\n",
       "      <td>-2.57290</td>\n",
       "      <td>2.7789</td>\n",
       "      <td>-0.978660</td>\n",
       "      <td>0.17811</td>\n",
       "      <td>-1.85080</td>\n",
       "      <td>-0.17094</td>\n",
       "      <td>-3.06880</td>\n",
       "      <td>-1.03590</td>\n",
       "      <td>1.664700</td>\n",
       "      <td>0.992580</td>\n",
       "      <td>-8.4170</td>\n",
       "      <td>-9.5292</td>\n",
       "      <td>1.32360</td>\n",
       "      <td>6.307200</td>\n",
       "      <td>3.580000</td>\n",
       "      <td>3.787900</td>\n",
       "      <td>-5.62320</td>\n",
       "      <td>0.4648</td>\n",
       "      <td>-2.75840</td>\n",
       "      <td>6.10500</td>\n",
       "      <td>5.25630</td>\n",
       "      <td>-2.40930</td>\n",
       "      <td>-7.2843</td>\n",
       "      <td>3.59050</td>\n",
       "      <td>3.74620</td>\n",
       "      <td>0.15031</td>\n",
       "    </tr>\n",
       "    <tr>\n",
       "      <th>...</th>\n",
       "      <td>...</td>\n",
       "      <td>...</td>\n",
       "      <td>...</td>\n",
       "      <td>...</td>\n",
       "      <td>...</td>\n",
       "      <td>...</td>\n",
       "      <td>...</td>\n",
       "      <td>...</td>\n",
       "      <td>...</td>\n",
       "      <td>...</td>\n",
       "      <td>...</td>\n",
       "      <td>...</td>\n",
       "      <td>...</td>\n",
       "      <td>...</td>\n",
       "      <td>...</td>\n",
       "      <td>...</td>\n",
       "      <td>...</td>\n",
       "      <td>...</td>\n",
       "      <td>...</td>\n",
       "      <td>...</td>\n",
       "      <td>...</td>\n",
       "      <td>...</td>\n",
       "      <td>...</td>\n",
       "      <td>...</td>\n",
       "      <td>...</td>\n",
       "      <td>...</td>\n",
       "      <td>...</td>\n",
       "      <td>...</td>\n",
       "      <td>...</td>\n",
       "      <td>...</td>\n",
       "    </tr>\n",
       "    <tr>\n",
       "      <th>76783</th>\n",
       "      <td>3.64540</td>\n",
       "      <td>2.6903</td>\n",
       "      <td>-1.9686</td>\n",
       "      <td>-3.82580</td>\n",
       "      <td>-0.82942</td>\n",
       "      <td>4.4352</td>\n",
       "      <td>5.491600</td>\n",
       "      <td>5.31490</td>\n",
       "      <td>2.37180</td>\n",
       "      <td>-0.15966</td>\n",
       "      <td>-5.41220</td>\n",
       "      <td>-8.24100</td>\n",
       "      <td>0.052942</td>\n",
       "      <td>-0.049442</td>\n",
       "      <td>7.1516</td>\n",
       "      <td>5.1878</td>\n",
       "      <td>4.12440</td>\n",
       "      <td>-3.937300</td>\n",
       "      <td>-7.946100</td>\n",
       "      <td>-0.059491</td>\n",
       "      <td>-2.78500</td>\n",
       "      <td>1.5869</td>\n",
       "      <td>-0.61506</td>\n",
       "      <td>-1.81290</td>\n",
       "      <td>-7.79400</td>\n",
       "      <td>1.93510</td>\n",
       "      <td>-2.7693</td>\n",
       "      <td>3.32890</td>\n",
       "      <td>-3.60430</td>\n",
       "      <td>4.49270</td>\n",
       "    </tr>\n",
       "    <tr>\n",
       "      <th>76788</th>\n",
       "      <td>-4.59410</td>\n",
       "      <td>-5.3179</td>\n",
       "      <td>-1.9670</td>\n",
       "      <td>2.49390</td>\n",
       "      <td>1.60230</td>\n",
       "      <td>-13.6550</td>\n",
       "      <td>-9.927800</td>\n",
       "      <td>-2.01680</td>\n",
       "      <td>-4.04800</td>\n",
       "      <td>0.25884</td>\n",
       "      <td>7.99350</td>\n",
       "      <td>5.92300</td>\n",
       "      <td>1.372700</td>\n",
       "      <td>5.442100</td>\n",
       "      <td>9.3013</td>\n",
       "      <td>7.2952</td>\n",
       "      <td>-4.34150</td>\n",
       "      <td>0.635510</td>\n",
       "      <td>5.785000</td>\n",
       "      <td>-5.612900</td>\n",
       "      <td>-0.99982</td>\n",
       "      <td>-7.5061</td>\n",
       "      <td>6.66900</td>\n",
       "      <td>0.96319</td>\n",
       "      <td>4.16370</td>\n",
       "      <td>-4.67180</td>\n",
       "      <td>10.1370</td>\n",
       "      <td>-7.74520</td>\n",
       "      <td>6.88590</td>\n",
       "      <td>-4.51790</td>\n",
       "    </tr>\n",
       "    <tr>\n",
       "      <th>76796</th>\n",
       "      <td>-0.23344</td>\n",
       "      <td>-2.3636</td>\n",
       "      <td>-7.4530</td>\n",
       "      <td>-3.94020</td>\n",
       "      <td>0.96299</td>\n",
       "      <td>-9.4888</td>\n",
       "      <td>-6.900400</td>\n",
       "      <td>-3.00350</td>\n",
       "      <td>0.17497</td>\n",
       "      <td>4.30240</td>\n",
       "      <td>8.20890</td>\n",
       "      <td>-1.61890</td>\n",
       "      <td>0.184010</td>\n",
       "      <td>9.987900</td>\n",
       "      <td>10.3750</td>\n",
       "      <td>7.7284</td>\n",
       "      <td>0.10642</td>\n",
       "      <td>-0.793080</td>\n",
       "      <td>-4.316400</td>\n",
       "      <td>-3.944200</td>\n",
       "      <td>4.45430</td>\n",
       "      <td>-8.2994</td>\n",
       "      <td>10.63400</td>\n",
       "      <td>-4.05610</td>\n",
       "      <td>0.37701</td>\n",
       "      <td>-5.20780</td>\n",
       "      <td>8.6750</td>\n",
       "      <td>-0.99986</td>\n",
       "      <td>-2.01650</td>\n",
       "      <td>-1.53520</td>\n",
       "    </tr>\n",
       "    <tr>\n",
       "      <th>76800</th>\n",
       "      <td>-0.88499</td>\n",
       "      <td>4.5809</td>\n",
       "      <td>6.2678</td>\n",
       "      <td>6.12990</td>\n",
       "      <td>-2.76110</td>\n",
       "      <td>-3.4339</td>\n",
       "      <td>-5.628000</td>\n",
       "      <td>-8.34130</td>\n",
       "      <td>-0.41654</td>\n",
       "      <td>1.08290</td>\n",
       "      <td>3.31190</td>\n",
       "      <td>-0.61719</td>\n",
       "      <td>-9.051200</td>\n",
       "      <td>-3.672900</td>\n",
       "      <td>-6.2975</td>\n",
       "      <td>-18.6680</td>\n",
       "      <td>4.03710</td>\n",
       "      <td>6.814300</td>\n",
       "      <td>7.680200</td>\n",
       "      <td>6.094500</td>\n",
       "      <td>3.62930</td>\n",
       "      <td>-1.1062</td>\n",
       "      <td>-1.37160</td>\n",
       "      <td>4.93870</td>\n",
       "      <td>7.67810</td>\n",
       "      <td>1.53770</td>\n",
       "      <td>-1.8493</td>\n",
       "      <td>2.57210</td>\n",
       "      <td>-0.18579</td>\n",
       "      <td>-2.06950</td>\n",
       "    </tr>\n",
       "    <tr>\n",
       "      <th>76807</th>\n",
       "      <td>-1.45580</td>\n",
       "      <td>-1.7363</td>\n",
       "      <td>-6.3833</td>\n",
       "      <td>0.45347</td>\n",
       "      <td>6.89850</td>\n",
       "      <td>-8.4050</td>\n",
       "      <td>-3.582800</td>\n",
       "      <td>6.93200</td>\n",
       "      <td>-2.45350</td>\n",
       "      <td>1.52300</td>\n",
       "      <td>4.12850</td>\n",
       "      <td>-2.66890</td>\n",
       "      <td>5.393300</td>\n",
       "      <td>2.480500</td>\n",
       "      <td>6.8347</td>\n",
       "      <td>7.3801</td>\n",
       "      <td>-1.22200</td>\n",
       "      <td>-5.499200</td>\n",
       "      <td>-5.400500</td>\n",
       "      <td>-3.274200</td>\n",
       "      <td>1.52790</td>\n",
       "      <td>-2.7644</td>\n",
       "      <td>4.13610</td>\n",
       "      <td>0.61880</td>\n",
       "      <td>-4.24060</td>\n",
       "      <td>0.28047</td>\n",
       "      <td>5.1570</td>\n",
       "      <td>-2.87640</td>\n",
       "      <td>3.13720</td>\n",
       "      <td>-4.91860</td>\n",
       "    </tr>\n",
       "  </tbody>\n",
       "</table>\n",
       "<p>11821 rows × 30 columns</p>\n",
       "</div>"
      ],
      "text/plain": [
       "            0       1       2        3   ...       26       27        28       29\n",
       "5     -4.90590 -5.8438 -6.3806  5.61930  ...   3.1592 -6.66760  15.31600 -7.45820\n",
       "10     7.63770  5.8280 -5.0308 -9.04660  ...   4.2657  4.08880 -10.48200  6.45020\n",
       "17     5.90130 -1.5379 -3.5369 -3.13850  ...  -1.1226 -2.19410   0.20288  2.34380\n",
       "21    -1.68830 -6.9348  1.0430  5.23440  ...   2.3473 -3.61120   5.32080 -3.41470\n",
       "28    -0.79600 -1.6378  5.9023  2.30480  ...  -7.2843  3.59050   3.74620  0.15031\n",
       "...        ...     ...     ...      ...  ...      ...      ...       ...      ...\n",
       "76783  3.64540  2.6903 -1.9686 -3.82580  ...  -2.7693  3.32890  -3.60430  4.49270\n",
       "76788 -4.59410 -5.3179 -1.9670  2.49390  ...  10.1370 -7.74520   6.88590 -4.51790\n",
       "76796 -0.23344 -2.3636 -7.4530 -3.94020  ...   8.6750 -0.99986  -2.01650 -1.53520\n",
       "76800 -0.88499  4.5809  6.2678  6.12990  ...  -1.8493  2.57210  -0.18579 -2.06950\n",
       "76807 -1.45580 -1.7363 -6.3833  0.45347  ...   5.1570 -2.87640   3.13720 -4.91860\n",
       "\n",
       "[11821 rows x 30 columns]"
      ]
     },
     "execution_count": 56,
     "metadata": {},
     "output_type": "execute_result"
    }
   ],
   "source": [
    "# Tiro el 5 poricento a derecha,\n",
    "X.T[mean_dists < mean_dists.quantile(q=0.90)]"
   ]
  },
  {
   "cell_type": "code",
   "execution_count": 57,
   "metadata": {},
   "outputs": [
    {
     "data": {
      "text/plain": [
       "(30, 12478)"
      ]
     },
     "execution_count": 57,
     "metadata": {},
     "output_type": "execute_result"
    }
   ],
   "source": [
    "X_filtered = X.T[mean_dists < mean_dists.quantile(q=0.95)].T\n",
    "X_filtered.shape"
   ]
  },
  {
   "cell_type": "code",
   "execution_count": 58,
   "metadata": {},
   "outputs": [],
   "source": [
    "gfp_values_filt = gfp_values[mean_dists < mean_dists.quantile(q=0.95)]"
   ]
  },
  {
   "cell_type": "code",
   "execution_count": 59,
   "metadata": {},
   "outputs": [
    {
     "data": {
      "text/plain": [
       "((12478,), (30, 12478))"
      ]
     },
     "execution_count": 59,
     "metadata": {},
     "output_type": "execute_result"
    }
   ],
   "source": [
    "gfp_values_filt.shape, X_filtered.shape"
   ]
  },
  {
   "cell_type": "markdown",
   "metadata": {},
   "source": [
    "Hice esta de pura curisoidad, cómo el kmenas modificado mira la distancia "
   ]
  },
  {
   "cell_type": "code",
   "execution_count": 60,
   "metadata": {},
   "outputs": [],
   "source": [
    "from sklearn.metrics.pairwise import cosine_distances"
   ]
  },
  {
   "cell_type": "code",
   "execution_count": 61,
   "metadata": {},
   "outputs": [
    {
     "data": {
      "text/plain": [
       "(13135, 13135)"
      ]
     },
     "execution_count": 61,
     "metadata": {},
     "output_type": "execute_result"
    }
   ],
   "source": [
    "# input shape (n_samples,n_features) por eso uso X.T\n",
    "# dist cosine = 1.0 - cosine_similarity(X, Y), cos_sim = <X, Y> / (||X||*||Y||)\n",
    "# Esta distancia mira el angulo entre vectores, si aputnan en la misma direci'on da 0,\n",
    "#si apuntan en direncci'on contraria da 2 y si son ortogonales da 1.\n",
    "dist_mat_cos = pairwise_distances(X.T,X.T,metric='cosine')\n",
    "dist_mat_cos.shape"
   ]
  },
  {
   "cell_type": "code",
   "execution_count": 62,
   "metadata": {},
   "outputs": [
    {
     "data": {
      "text/plain": [
       "<matplotlib.axes._subplots.AxesSubplot at 0x1de4fb9f850>"
      ]
     },
     "execution_count": 62,
     "metadata": {},
     "output_type": "execute_result"
    },
    {
     "data": {
      "image/png": "[encoded data removed]",
      "text/plain": [
       "<Figure size 432x288 with 1 Axes>"
      ]
     },
     "metadata": {},
     "output_type": "display_data"
    }
   ],
   "source": [
    "df_dist_mat_cos = pd.DataFrame(dist_mat_cos)\n",
    "df_dist_mat_cos.mean(axis=1).hist(bins=100)"
   ]
  },
  {
   "cell_type": "code",
   "execution_count": 99,
   "metadata": {},
   "outputs": [],
   "source": [
    "# Ac'a se ve que en promedio son bastante ortogonales,\n",
    "# creo que este gr'afico no aporta nada pero quer'ia ver que daba porque\n",
    "# el kmeans_mod se hace con la proyeci'on"
   ]
  },
  {
   "cell_type": "code",
   "execution_count": 21,
   "metadata": {},
   "outputs": [],
   "source": [
    "# plt.figure(figsize=(15,10))\n",
    "# s_rate=128\n",
    "# start=0\n",
    "# end=60\n",
    "\n",
    "# x = np.arange(0, df_all_eeg_data.T.shape[1])/128\n",
    "# #y = gfp.\n",
    "# plt.plot(x, gfp.values)\n",
    "# plt.xlabel('tiempo [S]', fontsize=24)\n",
    "# plt.ylabel('GFP', fontsize=20)\n",
    "# plt.title(f'GFP y picos cada 80ms Sujeto Pos', fontsize=24)\n",
    "# peaks, _ = find_peaks(gfp, height=(0,np.inf),distance=10)\n",
    "# for ind in peaks:\n",
    "#     plt.plot(x[ind],gfp[ind],'ro')\n",
    "\n",
    "# # plt.savefig(f'../images/grafico_GFP_sujeto_{sujeto}_pos')\n",
    "# plt.show()"
   ]
  },
  {
   "cell_type": "markdown",
   "metadata": {},
   "source": [
    "# Tarea 2: Calculo de microestados utilizando k-means modificados\n",
    "Aplicar el algoritmo de K-means modificado sobre los PGF P . Utilizar k = 2 − 10. ¿Es necesario repetir el procedimiento más de una vez para cada valor de k?\n",
    "Decidir el mejor valor de k. Calcular el promedio de Silhoutte, el parámetro de Validación Cruzada y la Variancia global explicada para cada k. Relizar gráfico de las tres medidas para el k correspondiente.\n",
    "Para el valor de k óptimo realizar el perfil de Silhoutte completo. Inspeccionar, a partir de esta última figura, la presencia de outliers, si es necesario descartarlos del análisis y volver a calcular los clusters para este valor de k."
   ]
  },
  {
   "cell_type": "code",
   "execution_count": 63,
   "metadata": {},
   "outputs": [],
   "source": [
    "from utils import kmeans3\n",
    "from utils import silhoutte_modificado2\n",
    "from utils import grafica_sil"
   ]
  },
  {
   "cell_type": "code",
   "execution_count": 23,
   "metadata": {},
   "outputs": [],
   "source": [
    "#maps, L, cv = kmeans3(X.values, gfp_values, 2)"
   ]
  },
  {
   "cell_type": "markdown",
   "metadata": {},
   "source": [
    "## ¿Es necesario repetir el procedimiento más de una vez para cada valor de k? Supongo que hay que hacer un CV ya que hay una inicialización random al principio"
   ]
  },
  {
   "cell_type": "markdown",
   "metadata": {},
   "source": [
    "## Hacer el for loop sobre k 2 - 10. Calcular el silhoutte y ver cuales son las otras métricas. Todas meterlos en un dataframe."
   ]
  },
  {
   "cell_type": "markdown",
   "metadata": {},
   "source": [
    "\n",
    "- Si todo esto está bien, faltaría ver cómo calcular la variancia global explicada para cada J y analizar la presencia de outliers en el último gráfico, etc.\n"
   ]
  },
  {
   "cell_type": "code",
   "execution_count": 84,
   "metadata": {},
   "outputs": [],
   "source": [
    "def gevCluster(X, gfp_values, centroide):\n",
    "    \"\"\"\n",
    "    X: np.array de vectores file, (n_samples, vec_dim) \n",
    "    centroide: vector columna contra el cual se calcula el GEV,\n",
    "    gfp_values: altura del pico correspodiente a cada mapa de X\n",
    "    \"\"\"\n",
    "    corr = (np.dot(X, centroide) / (np.linalg.norm(X) * np.linalg.norm(centroide)))**2\n",
    "    gfp_2 = gfp_values**2\n",
    "    sum_gfp_2 = gfp_2.sum()\n",
    "    return (corr * (gfp_2 / sum_gfp_2)).sum()"
   ]
  },
  {
   "cell_type": "code",
   "execution_count": 85,
   "metadata": {},
   "outputs": [],
   "source": [
    "def clusterAnalysis(X, gfp_values):\n",
    "    \"\"\"\n",
    "    \"\"\"\n",
    "    k = []\n",
    "    maps_k = []\n",
    "    L_k = []\n",
    "    cv_k = []\n",
    "    sil_k = []\n",
    "    gev = {}\n",
    "\n",
    "    for num_clusters in tqdm(range(2,11)):\n",
    "        maps, labels, cv = kmeans3(X.values, gfp_values, num_clusters, maxiter=1000)\n",
    "        gev[f'k={num_clusters}'] = []\n",
    "\n",
    "        for cluster in range(0, num_clusters):\n",
    "            gev_cluster = gevCluster(X.T.values[labels == cluster],gfp_values[labels == cluster],maps[cluster])\n",
    "            gev[f'k={num_clusters}'].append(gev_cluster)\n",
    "\n",
    "        gev[f'k={num_clusters}'] = sum(gev[f'k={num_clusters}'])\n",
    "\n",
    "        k.append(num_clusters)\n",
    "        maps_k.append(maps)\n",
    "        L_k.append(labels)\n",
    "        cv_k.append(cv)\n",
    "        sil = silhoutte_modificado2(maps, X, labels, X.shape[0], num_clusters)\n",
    "        sil_avg = np.mean(sil)\n",
    "        sil_k.append(sil_avg)\n",
    "    return k, maps_k, L_k, cv_k, sil, sil_avg, sil_k, gev"
   ]
  },
  {
   "cell_type": "code",
   "execution_count": null,
   "metadata": {},
   "outputs": [
    {
     "name": "stderr",
     "output_type": "stream",
     "text": [
      " 78%|███████▊  | 7/9 [00:44<00:14,  7.13s/it]"
     ]
    }
   ],
   "source": [
    "k, maps_k, L_k, cv_k, sil, sil_avg, sil_k, gev = clusterAnalysis(X_filtered, gfp_values_filt)"
   ]
  },
  {
   "cell_type": "code",
   "execution_count": 81,
   "metadata": {},
   "outputs": [
    {
     "data": {
      "text/plain": [
       "Text(0.5, 1.0, 'Silhoutte en función del k')"
      ]
     },
     "execution_count": 81,
     "metadata": {},
     "output_type": "execute_result"
    },
    {
     "data": {
      "image/png": "[encoded data removed]",
      "text/plain": [
       "<Figure size 432x288 with 1 Axes>"
      ]
     },
     "metadata": {},
     "output_type": "display_data"
    }
   ],
   "source": [
    "plt.plot(k, sil_k,'b.-')\n",
    "plt.title('Silhoutte en función del k')"
   ]
  },
  {
   "cell_type": "code",
   "execution_count": 82,
   "metadata": {},
   "outputs": [
    {
     "data": {
      "text/plain": [
       "Text(0.5, 1.0, 'CV en función del k')"
      ]
     },
     "execution_count": 82,
     "metadata": {},
     "output_type": "execute_result"
    },
    {
     "data": {
      "image/png": "[encoded data removed]",
      "text/plain": [
       "<Figure size 432x288 with 1 Axes>"
      ]
     },
     "metadata": {},
     "output_type": "display_data"
    }
   ],
   "source": [
    "plt.plot(k, cv_k, 'b.-')\n",
    "plt.title('CV en función del k')"
   ]
  },
  {
   "cell_type": "code",
   "execution_count": 83,
   "metadata": {},
   "outputs": [
    {
     "data": {
      "text/plain": [
       "Text(0.5, 1.0, 'GEV en función de k')"
      ]
     },
     "execution_count": 83,
     "metadata": {},
     "output_type": "execute_result"
    },
    {
     "data": {
      "image/png": "[encoded data removed]",
      "text/plain": [
       "<Figure size 432x288 with 1 Axes>"
      ]
     },
     "metadata": {},
     "output_type": "display_data"
    }
   ],
   "source": [
    "plt.plot((np.arange(2,11)),100*np.array(list(gev.values())),'b.-')\n",
    "plt.title('GEV en función de k')"
   ]
  },
  {
   "cell_type": "code",
   "execution_count": 160,
   "metadata": {},
   "outputs": [],
   "source": [
    "# Creo que todos los GEV deberian ir entre 0 y 1, El ultimo da un poco mayor a uno, no se si ser'a un error numerico"
   ]
  },
  {
   "cell_type": "code",
   "execution_count": 161,
   "metadata": {},
   "outputs": [],
   "source": [
    "maps, L, cv = kmeans3(X.values, gfp_values, n_maps = 4, maxiter=2000)\n",
    "sil = silhoutte_modificado2(maps, X.values, L, 30, 4)"
   ]
  },
  {
   "cell_type": "code",
   "execution_count": 164,
   "metadata": {},
   "outputs": [
    {
     "data": {
      "text/plain": [
       "2    4306\n",
       "3    3397\n",
       "1    3077\n",
       "0    2355\n",
       "dtype: int64"
      ]
     },
     "execution_count": 164,
     "metadata": {},
     "output_type": "execute_result"
    }
   ],
   "source": [
    "pd.Series(L).value_counts()"
   ]
  },
  {
   "cell_type": "code",
   "execution_count": 162,
   "metadata": {},
   "outputs": [
    {
     "name": "stdout",
     "output_type": "stream",
     "text": [
      "For n_clusters = 4 The average silhouette_score is : 0.21130154301839818\n"
     ]
    },
    {
     "data": {
      "image/png": "[encoded data removed]",
      "text/plain": [
       "<Figure size 432x288 with 1 Axes>"
      ]
     },
     "metadata": {
      "needs_background": "light"
     },
     "output_type": "display_data"
    }
   ],
   "source": [
    "grafica_sil(4, sil, L)"
   ]
  },
  {
   "cell_type": "code",
   "execution_count": 29,
   "metadata": {},
   "outputs": [],
   "source": [
    "X_clean = X.T[np.array(sil)>0].T\n",
    "gfp_values_clean = gfp_values.T[np.array(sil)>0]"
   ]
  },
  {
   "cell_type": "code",
   "execution_count": 30,
   "metadata": {},
   "outputs": [],
   "source": [
    "maps, L, cv = kmeans3(X_clean.values, gfp_values_clean, n_maps = 4, maxiter=1000)\n",
    "sil = silhoutte_modificado2(maps, X_clean.values, L, 30, 4)"
   ]
  },
  {
   "cell_type": "code",
   "execution_count": 31,
   "metadata": {},
   "outputs": [
    {
     "name": "stdout",
     "output_type": "stream",
     "text": [
      "For n_clusters = 4 The average silhouette_score is : 0.23123421604614183\n"
     ]
    },
    {
     "data": {
      "image/png": "[encoded data removed]",
      "text/plain": [
       "<Figure size 432x288 with 1 Axes>"
      ]
     },
     "metadata": {
      "needs_background": "light"
     },
     "output_type": "display_data"
    }
   ],
   "source": [
    "grafica_sil(4, sil, L)"
   ]
  },
  {
   "cell_type": "markdown",
   "metadata": {},
   "source": [
    "# Tarea 3: Validación externa de los microestados\n",
    "Realizar al menos dos métodos de clustering diferentes para los ~xn. Determinar la distancia que va a utilizar. Justificar brevemente porque se eligen esos métodos y nociones de distancia. Realice una inspección de las características de los clusters hallados y de los prototipos de cada cluster en caso que los hubiese (o de ejemplos en el caso que no), comparar con los encontrados por el método de k-means modificado.\n",
    "Calcular la matriz de confusión entre algoritmos. Determinar el índice Rand."
   ]
  },
  {
   "cell_type": "code",
   "execution_count": 32,
   "metadata": {},
   "outputs": [],
   "source": [
    "from sklearn_extra.cluster import KMedoids\n",
    "from scipy.cluster.hierarchy import dendrogram, linkage, cophenet\n",
    "from scipy.spatial.distance import squareform\n",
    "from sklearn.metrics import silhouette_samples, silhouette_score, pairwise\n",
    "from sklearn.cluster import DBSCAN, KMeans, AgglomerativeClustering"
   ]
  },
  {
   "cell_type": "code",
   "execution_count": 33,
   "metadata": {},
   "outputs": [],
   "source": [
    "d_meta = gower.gower_matrix(X.T)"
   ]
  },
  {
   "cell_type": "markdown",
   "metadata": {},
   "source": [
    "## Probamos distintos tipos de clustering: por prototipo y por densidad"
   ]
  },
  {
   "cell_type": "markdown",
   "metadata": {},
   "source": [
    "### K-MEDOIDS es menos sensible a los outliers, nosotros los identificamos y limpiamos en el paso anterior. Es más flexible para otras distancias. NO escala bien para N grandes."
   ]
  },
  {
   "cell_type": "markdown",
   "metadata": {},
   "source": [
    "# Cluster por prototipo"
   ]
  },
  {
   "cell_type": "code",
   "execution_count": 24,
   "metadata": {},
   "outputs": [],
   "source": [
    "KM_meta = KMedoids(n_clusters=4, metric='euclidean', init='k-medoids++').fit(d_meta)"
   ]
  },
  {
   "cell_type": "code",
   "execution_count": 25,
   "metadata": {
    "collapsed": true,
    "jupyter": {
     "outputs_hidden": true
    }
   },
   "outputs": [
    {
     "name": "stdout",
     "output_type": "stream",
     "text": [
      "[0 1 3 ... 3 1 3]\n",
      "[ 8018 12602  7784  6108]\n"
     ]
    }
   ],
   "source": [
    "print(KM_meta.labels_)\n",
    "print(KM_meta.medoid_indices_)"
   ]
  },
  {
   "cell_type": "code",
   "execution_count": 26,
   "metadata": {
    "collapsed": true,
    "jupyter": {
     "outputs_hidden": true
    }
   },
   "outputs": [
    {
     "name": "stdout",
     "output_type": "stream",
     "text": [
      "0.26477793\n",
      "73.64220760876196\n"
     ]
    },
    {
     "data": {
      "text/plain": [
       "array([0.20959789, 0.34574088, 0.22301374, ..., 0.03995391, 0.11480102,\n",
       "       0.36732063], dtype=float32)"
      ]
     },
     "execution_count": 26,
     "metadata": {},
     "output_type": "execute_result"
    }
   ],
   "source": [
    "print(silhouette_score(d_meta, KM_meta.labels_, metric='euclidean'))\n",
    "print(calcula_sse_kmedoids(KM_meta,d_meta))\n",
    "silhouette_samples(d_meta, KM_meta.labels_, metric='euclidean')"
   ]
  },
  {
   "cell_type": "markdown",
   "metadata": {},
   "source": [
    "# Cluster por densidad"
   ]
  },
  {
   "cell_type": "code",
   "execution_count": 35,
   "metadata": {},
   "outputs": [],
   "source": [
    "metrics = list(pairwise.PAIRED_DISTANCES.keys())\n",
    "clusters = 4"
   ]
  },
  {
   "cell_type": "markdown",
   "metadata": {},
   "source": [
    "## Clustering por prototipos"
   ]
  },
  {
   "cell_type": "code",
   "execution_count": 58,
   "metadata": {},
   "outputs": [],
   "source": [
    "m = metrics[4]"
   ]
  },
  {
   "cell_type": "code",
   "execution_count": 59,
   "metadata": {},
   "outputs": [],
   "source": [
    "# kmdeoids = KMedoids(n_clusters=clusters, metric='euclidean', init='k-medoids++').fit(d_meta)\n",
    "# kmdeoids = KMedoids(n_clusters=clusters, metric='euclidean', init='k-medoids++').fit(X.T)\n",
    "kmdeoids = KMedoids(n_clusters=clusters, metric=m, init='k-medoids++').fit(X.T)"
   ]
  },
  {
   "cell_type": "markdown",
   "metadata": {},
   "source": [
    "## Clustering por densidad\n",
    "Variar parámetros eps y min_samples"
   ]
  },
  {
   "cell_type": "code",
   "execution_count": 52,
   "metadata": {},
   "outputs": [],
   "source": [
    "# dbscan = DBSCAN(eps=3, min_samples=2, metric='euclidean').fit(d_meta)\n",
    "# dbscan = DBSCAN(eps=0.03, min_samples=2, metric='euclidean').fit(X.T)"
   ]
  },
  {
   "cell_type": "markdown",
   "metadata": {},
   "source": [
    "## Clustering jerárquico\n",
    "Variar parámetro linkage"
   ]
  },
  {
   "cell_type": "code",
   "execution_count": 61,
   "metadata": {},
   "outputs": [],
   "source": [
    "# agg_clustering = AgglomerativeClustering(n_clusters=clusters, affinity='euclidean').fit(d_meta)\n",
    "# agg_clustering = AgglomerativeClustering(n_clusters=clusters, affinity='euclidean').fit(X.T)\n",
    "agg_clustering = AgglomerativeClustering(n_clusters=clusters, affinity=m, linkage='average',).fit(X.T)"
   ]
  },
  {
   "cell_type": "code",
   "execution_count": 62,
   "metadata": {},
   "outputs": [
    {
     "data": {
      "text/plain": [
       "0.1599175409332687"
      ]
     },
     "execution_count": 62,
     "metadata": {},
     "output_type": "execute_result"
    }
   ],
   "source": [
    "silhouette_score(X.T, kmdeoids.labels_, metric='euclidean')"
   ]
  },
  {
   "cell_type": "code",
   "execution_count": 53,
   "metadata": {},
   "outputs": [
    {
     "data": {
      "text/plain": [
       "0.12709787915788381"
      ]
     },
     "execution_count": 53,
     "metadata": {},
     "output_type": "execute_result"
    }
   ],
   "source": [
    "silhouette_score(X.T, kmdeoids.labels_, metric='euclidean')"
   ]
  },
  {
   "cell_type": "code",
   "execution_count": 63,
   "metadata": {},
   "outputs": [
    {
     "data": {
      "text/plain": [
       "0.40736188527789124"
      ]
     },
     "execution_count": 63,
     "metadata": {},
     "output_type": "execute_result"
    }
   ],
   "source": [
    "silhouette_score(X.T, agg_clustering.labels_, metric='euclidean')"
   ]
  },
  {
   "cell_type": "code",
   "execution_count": 54,
   "metadata": {},
   "outputs": [
    {
     "data": {
      "text/plain": [
       "0.14109755847592212"
      ]
     },
     "execution_count": 54,
     "metadata": {},
     "output_type": "execute_result"
    }
   ],
   "source": [
    "silhouette_score(X.T, agg_clustering.labels_, metric='euclidean')"
   ]
  },
  {
   "cell_type": "code",
   "execution_count": 65,
   "metadata": {},
   "outputs": [],
   "source": [
    "linkages = ['ward', 'complete', 'average', 'single']"
   ]
  },
  {
   "cell_type": "code",
   "execution_count": null,
   "metadata": {},
   "outputs": [
    {
     "name": "stderr",
     "output_type": "stream",
     "text": [
      "  0%|          | 0/6 [00:00<?, ?it/s]/Users/fran/anaconda3/lib/python3.7/site-packages/sklearn/cluster/_agglomerative.py:542: ClusterWarning: scipy.cluster: The symmetric non-negative hollow observation matrix looks suspiciously like an uncondensed distance matrix\n",
      "  out = hierarchy.linkage(X, method=linkage, metric=affinity)\n"
     ]
    }
   ],
   "source": [
    "all_models = {}\n",
    "all_models['KMedoids'] = {}\n",
    "all_models['AgglomerativeClustering'] = {}\n",
    "for metric in tqdm(metrics):\n",
    "    try:\n",
    "        kmdeoids = KMedoids(n_clusters=clusters, metric=metric, init='k-medoids++').fit(d_meta)\n",
    "    except:\n",
    "        kmdeoids = None\n",
    "    all_models['KMedoids'][metric] = {}    \n",
    "    \n",
    "    try:\n",
    "        all_models['KMedoids'][metric]['silhouette_score'] = round(silhouette_score(d_meta, kmdeoids.labels_, metric=metric), 3)\n",
    "    except:\n",
    "        all_models['KMedoids'][metric]['silhouette_score'] = None\n",
    "\n",
    "\n",
    "    all_models['AgglomerativeClustering'][metric] = {}\n",
    "    for l in linkages:\n",
    "        try:\n",
    "            agg_clustering = AgglomerativeClustering(n_clusters=clusters, affinity=metric, linkage=l).fit(d_meta)\n",
    "        except:\n",
    "            agg_clustering = None\n",
    "\n",
    "        all_models['AgglomerativeClustering'][metric][l] = {}\n",
    "        \n",
    "        try:\n",
    "            all_models['AgglomerativeClustering'][metric][l]['silhouette_score'] = round(silhouette_score(d_meta, agg_clustering.labels_, metric=metric), 3)\n",
    "        except:\n",
    "            all_models['AgglomerativeClustering'][metric][l]['silhouette_score'] = None"
   ]
  },
  {
   "cell_type": "code",
   "execution_count": 36,
   "metadata": {},
   "outputs": [],
   "source": [
    "kmdeoids = KMedoids(n_clusters=clusters, metric='cosine', init='k-medoids++').fit(X.T)"
   ]
  },
  {
   "cell_type": "code",
   "execution_count": 46,
   "metadata": {},
   "outputs": [
    {
     "data": {
      "text/plain": [
       "array([[ 0.14186816,  0.16096083,  0.04048709, -0.20812783, -0.45300942,\n",
       "         0.06298019, -0.08717066, -0.40090237,  0.1548689 ,  0.19463676,\n",
       "         0.1345228 , -0.05844621, -0.36248133,  0.12458683,  0.04617727,\n",
       "        -0.14718828,  0.19508021,  0.15668011, -0.03622067, -0.17651117,\n",
       "         0.16427398,  0.19618159,  0.06587138,  0.1434428 , -0.00612529,\n",
       "         0.07237829, -0.112311  ,  0.02078889,  0.17773862, -0.20503038],\n",
       "       [ 0.12733217,  0.08486314, -0.17562056, -0.34078663, -0.29039306,\n",
       "         0.0173488 , -0.13689118, -0.27936402,  0.17459689,  0.19182526,\n",
       "         0.15936193,  0.02652701, -0.07625823,  0.2333915 ,  0.25678625,\n",
       "         0.18008696,  0.11407267, -0.03347613, -0.23172126, -0.00489426,\n",
       "         0.10546453, -0.06882283,  0.24921266, -0.25676475, -0.02895924,\n",
       "        -0.21802474,  0.18848089,  0.13752294, -0.24750802,  0.142612  ],\n",
       "       [ 0.21892913,  0.19249497,  0.08024575, -0.11568319, -0.22054213,\n",
       "         0.20448943,  0.11249062, -0.06386987,  0.19502601,  0.14955081,\n",
       "        -0.05812831, -0.31623351, -0.32568999,  0.12235364, -0.04528376,\n",
       "        -0.3218999 ,  0.19675598,  0.04250251, -0.21351047,  0.16356759,\n",
       "         0.05793784,  0.16953174,  0.04031633, -0.07945044, -0.13164932,\n",
       "         0.03522963, -0.20799894,  0.21017469, -0.30505969,  0.21340275],\n",
       "       [-0.20246088, -0.17348587, -0.07688815,  0.10087429,  0.28795729,\n",
       "        -0.18196787, -0.12590093,  0.03656991, -0.17735657, -0.14440842,\n",
       "         0.00816166,  0.23473155,  0.52243761, -0.14807373, -0.02998337,\n",
       "         0.20705052, -0.15796942, -0.03862751,  0.19996137, -0.06358666,\n",
       "        -0.12696911, -0.10280493, -0.16025228, -0.08721052,  0.04473999,\n",
       "         0.10107705, -0.05083152,  0.09697879, -0.17619814,  0.38443568]])"
      ]
     },
     "execution_count": 46,
     "metadata": {},
     "output_type": "execute_result"
    }
   ],
   "source": [
    "maps"
   ]
  },
  {
   "cell_type": "code",
   "execution_count": 47,
   "metadata": {},
   "outputs": [
    {
     "data": {
      "text/plain": [
       "array([[ -6.3245 ,  -7.5814 ,  -5.3068 ,   4.0456 ,  11.946  ,  -8.2614 ,\n",
       "         -4.176  ,   3.3869 ,  -4.7141 ,  -3.6628 ,   1.052  ,  12.143  ,\n",
       "         14.126  ,  -4.4656 ,   0.20416,  10.624  , -10.368  ,  -0.41097,\n",
       "         10.735  ,  -8.4241 ,  -0.91747,  -7.6951 ,  -4.6462 ,   1.8469 ,\n",
       "          6.6305 ,  -0.87632,   3.0202 ,  -9.4698 ,  15.498  ,  -7.9579 ],\n",
       "       [  0.23314,   3.3652 ,   6.1361 ,   5.8906 ,   1.8689 ,   3.2421 ,\n",
       "          5.2709 ,   5.9593 ,  -2.2502 ,  -0.84697,  -3.2163 ,  -4.2088 ,\n",
       "         -6.0998 ,  -2.7448 ,  -7.2582 , -12.354  ,  -0.23808,  -0.99608,\n",
       "          0.55252,   2.3729 ,  -0.1788 ,   5.3435 ,  -2.9095 ,   5.3624 ,\n",
       "         -1.4445 ,   6.5216 ,  -7.7391 ,   1.7123 ,  -0.28974,  -1.0563 ],\n",
       "       [ 11.055  ,  12.097  ,   0.80685, -20.891  , -28.438  ,   7.7029 ,\n",
       "         -1.9333 , -25.856  ,  12.535  ,  15.366  ,   5.2258 ,  -7.2567 ,\n",
       "        -20.97   ,  13.718  ,   5.9779 ,  -7.4138 ,  10.587  ,   5.1043 ,\n",
       "         -6.9189 ,  -3.7569 ,   7.3825 ,   9.4927 ,   7.6664 ,   6.736  ,\n",
       "         -6.5171 ,   0.99108,  -0.77623,   2.2652 ,  13.584  , -17.565  ],\n",
       "       [ -8.2582 ,  -6.9104 ,  -7.6275 ,   8.1637 ,  23.487  ,  -3.0584 ,\n",
       "          3.655  ,  16.041  ,  -8.8622 , -10.394  ,  -6.7931 ,   5.9426 ,\n",
       "         25.758  ,  -7.8664 ,  -0.8582 ,  12.12   , -11.579  , -10.044  ,\n",
       "          3.6177 ,   7.632  , -11.005  ,  -9.2148 ,  -4.7004 ,  -6.1142 ,\n",
       "         -0.31701,  -2.7997 ,   3.4843 ,   0.45439,  -9.703  ,  15.749  ]])"
      ]
     },
     "execution_count": 47,
     "metadata": {},
     "output_type": "execute_result"
    }
   ],
   "source": [
    "kmdeoids.cluster_centers_"
   ]
  },
  {
   "cell_type": "code",
   "execution_count": 44,
   "metadata": {},
   "outputs": [],
   "source": [
    "sil_kmdeoids = silhoutte_modificado2(kmdeoids.cluster_centers_, X.values, kmdeoids.labels_, 30, 4)"
   ]
  },
  {
   "cell_type": "code",
   "execution_count": 45,
   "metadata": {},
   "outputs": [
    {
     "name": "stdout",
     "output_type": "stream",
     "text": [
      "For n_clusters = 4 The average silhouette_score is : -0.0024393197715566004\n"
     ]
    },
    {
     "data": {
      "image/png": "[encoded data removed]",
      "text/plain": [
       "<Figure size 432x288 with 1 Axes>"
      ]
     },
     "metadata": {
      "needs_background": "light"
     },
     "output_type": "display_data"
    }
   ],
   "source": [
    "grafica_sil(4, sil_kmdeoids, kmdeoids.labels_)"
   ]
  },
  {
   "cell_type": "code",
   "execution_count": 115,
   "metadata": {},
   "outputs": [
    {
     "data": {
      "text/plain": [
       "{'KMedoids': {'cosine': {'silhouette_score': 0.281},\n",
       "  'euclidean': {'silhouette_score': 0.136},\n",
       "  'l2': {'silhouette_score': 0.168},\n",
       "  'l1': {'silhouette_score': 0.176},\n",
       "  'manhattan': {'silhouette_score': 0.167},\n",
       "  'cityblock': {'silhouette_score': 0.176}},\n",
       " 'AgglomerativeClustering': {'cosine': {'ward': {'silhouette_score': None},\n",
       "   'complete': {'silhouette_score': 0.164},\n",
       "   'average': {'silhouette_score': 0.207},\n",
       "   'single': {'silhouette_score': -0.125}},\n",
       "  'euclidean': {'ward': {'silhouette_score': 0.143},\n",
       "   'complete': {'silhouette_score': 0.176},\n",
       "   'average': {'silhouette_score': 0.516},\n",
       "   'single': {'silhouette_score': 0.521}},\n",
       "  'l2': {'ward': {'silhouette_score': None},\n",
       "   'complete': {'silhouette_score': 0.176},\n",
       "   'average': {'silhouette_score': 0.516},\n",
       "   'single': {'silhouette_score': 0.521}},\n",
       "  'l1': {'ward': {'silhouette_score': None},\n",
       "   'complete': {'silhouette_score': 0.164},\n",
       "   'average': {'silhouette_score': 0.396},\n",
       "   'single': {'silhouette_score': 0.254}},\n",
       "  'manhattan': {'ward': {'silhouette_score': None},\n",
       "   'complete': {'silhouette_score': 0.164},\n",
       "   'average': {'silhouette_score': 0.396},\n",
       "   'single': {'silhouette_score': 0.254}},\n",
       "  'cityblock': {'ward': {'silhouette_score': None},\n",
       "   'complete': {'silhouette_score': 0.164},\n",
       "   'average': {'silhouette_score': 0.396},\n",
       "   'single': {'silhouette_score': 0.254}}}}"
      ]
     },
     "execution_count": 115,
     "metadata": {},
     "output_type": "execute_result"
    }
   ],
   "source": [
    "all_models"
   ]
  },
  {
   "cell_type": "code",
   "execution_count": 136,
   "metadata": {},
   "outputs": [],
   "source": [
    "agg_clustering."
   ]
  },
  {
   "cell_type": "code",
   "execution_count": null,
   "metadata": {},
   "outputs": [],
   "source": [
    "silhoutte_modificado2(maps, X, L, X.shape[0], i)"
   ]
  },
  {
   "cell_type": "code",
   "execution_count": 121,
   "metadata": {},
   "outputs": [],
   "source": [
    "agg_clustering = AgglomerativeClustering(n_clusters=clusters, affinity='cosine', linkage='single').fit(X_clean.T)"
   ]
  },
  {
   "cell_type": "code",
   "execution_count": 125,
   "metadata": {},
   "outputs": [
    {
     "data": {
      "text/plain": [
       "-0.1247214157616673"
      ]
     },
     "execution_count": 125,
     "metadata": {},
     "output_type": "execute_result"
    }
   ],
   "source": [
    "silhouette_score(X_clean.T, agg_clustering.labels_, metric='cosine')"
   ]
  },
  {
   "cell_type": "code",
   "execution_count": 126,
   "metadata": {},
   "outputs": [
    {
     "data": {
      "text/plain": [
       "0    12457\n",
       "3        1\n",
       "2        1\n",
       "1        1\n",
       "Name: agg_clustering, dtype: int64"
      ]
     },
     "execution_count": 126,
     "metadata": {},
     "output_type": "execute_result"
    }
   ],
   "source": [
    "tmp['agg_clustering'].value_counts()"
   ]
  },
  {
   "cell_type": "code",
   "execution_count": 127,
   "metadata": {},
   "outputs": [
    {
     "data": {
      "text/html": [
       "<div>\n",
       "<style scoped>\n",
       "    .dataframe tbody tr th:only-of-type {\n",
       "        vertical-align: middle;\n",
       "    }\n",
       "\n",
       "    .dataframe tbody tr th {\n",
       "        vertical-align: top;\n",
       "    }\n",
       "\n",
       "    .dataframe thead th {\n",
       "        text-align: right;\n",
       "    }\n",
       "</style>\n",
       "<table border=\"1\" class=\"dataframe\">\n",
       "  <thead>\n",
       "    <tr style=\"text-align: right;\">\n",
       "      <th>agg_clustering</th>\n",
       "      <th>0</th>\n",
       "      <th>1</th>\n",
       "      <th>2</th>\n",
       "      <th>3</th>\n",
       "    </tr>\n",
       "    <tr>\n",
       "      <th>kmeans</th>\n",
       "      <th></th>\n",
       "      <th></th>\n",
       "      <th></th>\n",
       "      <th></th>\n",
       "    </tr>\n",
       "  </thead>\n",
       "  <tbody>\n",
       "    <tr>\n",
       "      <th>0</th>\n",
       "      <td>4156</td>\n",
       "      <td>0</td>\n",
       "      <td>0</td>\n",
       "      <td>0</td>\n",
       "    </tr>\n",
       "    <tr>\n",
       "      <th>1</th>\n",
       "      <td>2973</td>\n",
       "      <td>0</td>\n",
       "      <td>1</td>\n",
       "      <td>1</td>\n",
       "    </tr>\n",
       "    <tr>\n",
       "      <th>2</th>\n",
       "      <td>3017</td>\n",
       "      <td>1</td>\n",
       "      <td>0</td>\n",
       "      <td>0</td>\n",
       "    </tr>\n",
       "    <tr>\n",
       "      <th>3</th>\n",
       "      <td>2311</td>\n",
       "      <td>0</td>\n",
       "      <td>0</td>\n",
       "      <td>0</td>\n",
       "    </tr>\n",
       "  </tbody>\n",
       "</table>\n",
       "</div>"
      ],
      "text/plain": [
       "agg_clustering     0  1  2  3\n",
       "kmeans                       \n",
       "0               4156  0  0  0\n",
       "1               2973  0  1  1\n",
       "2               3017  1  0  0\n",
       "3               2311  0  0  0"
      ]
     },
     "execution_count": 127,
     "metadata": {},
     "output_type": "execute_result"
    }
   ],
   "source": [
    "tmp = pd.DataFrame({'kmeans': L, 'agg_clustering': agg_clustering.labels_})\n",
    "ct0 = pd.crosstab(tmp['kmeans'], tmp['agg_clustering'])\n",
    "ct0"
   ]
  },
  {
   "cell_type": "markdown",
   "metadata": {},
   "source": [
    "# Tarea 4: Visualización\n",
    "Para los distintos algoritmos, visualizar los datos y las etiquetas de cluster asignadas en baja dimensión con alguna técnica de reducción (PCA, TSNE, MDS, etc). Esto se puede repetir para alguna variación que encuentren interesante, como para distintos valores de k o distintas nociones de distancia."
   ]
  },
  {
   "cell_type": "markdown",
   "metadata": {},
   "source": [
    "# Tarea 5: Comparación de medidas de los microestados\n",
    "Calcule el ajuste de los datos de EEG a los prototipos de microestados hallados en la\n",
    "Tarea 2 para cada registro. Realice un suavizado de las series temporales (puede utilizar\n",
    "una ventana promedio móvil) y asigne a cada punto temporal el mapa prototipo que presente\n",
    "mayor correlación.\n",
    "A partir de aca debe elegir al menos uno de los siguientes medidas para comparar entre\n",
    "ambas condiciones experimentales (antes y después del aprendizaje): (ver medidas en d’Croz\n",
    "-Baron y colaboradores [3])\n",
    "Duración promedio de cada microestado.\n",
    "Frecuencia de ocurrencia.\n",
    "Fracción de tiempo cubierto.\n",
    "Global Explanined Variance."
   ]
  },
  {
   "cell_type": "code",
   "execution_count": null,
   "metadata": {},
   "outputs": [],
   "source": []
  },
  {
   "cell_type": "code",
   "execution_count": null,
   "metadata": {},
   "outputs": [],
   "source": []
  },
  {
   "cell_type": "code",
   "execution_count": null,
   "metadata": {},
   "outputs": [],
   "source": []
  },
  {
   "cell_type": "code",
   "execution_count": null,
   "metadata": {},
   "outputs": [],
   "source": []
  },
  {
   "cell_type": "code",
   "execution_count": null,
   "metadata": {},
   "outputs": [],
   "source": []
  },
  {
   "cell_type": "code",
   "execution_count": null,
   "metadata": {},
   "outputs": [],
   "source": []
  },
  {
   "cell_type": "code",
   "execution_count": null,
   "metadata": {},
   "outputs": [],
   "source": []
  }
 ],
 "metadata": {
  "kernelspec": {
   "display_name": "Python 3 (Spyder)",
   "language": "python3",
   "name": "python3"
  },
  "language_info": {
   "codemirror_mode": {
    "name": "ipython",
    "version": 3
   },
   "file_extension": ".py",
   "mimetype": "text/x-python",
   "name": "python",
   "nbconvert_exporter": "python",
   "pygments_lexer": "ipython3",
   "version": "3.8.3"
  }
 },
 "nbformat": 4,
 "nbformat_minor": 4
}
